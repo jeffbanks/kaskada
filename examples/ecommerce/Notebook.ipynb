{
 "cells": [
  {
   "cell_type": "markdown",
   "id": "235d821b-1ff8-4ef6-8f0b-559c95254479",
   "metadata": {},
   "source": [
    "# Ecommerce Example"
   ]
  },
  {
   "cell_type": "markdown",
   "id": "4a2645a7-a748-43ac-a07f-cbb4fc4d3f4e",
   "metadata": {},
   "source": [
    "NOTE: This step is only needed if you haven't already"
   ]
  },
  {
   "cell_type": "code",
   "execution_count": null,
   "id": "0b21472f-27b0-4b14-ba48-f3c4e11d36bf",
   "metadata": {},
   "outputs": [],
   "source": [
    "!pip install kaskada"
   ]
  },
  {
   "cell_type": "markdown",
   "id": "9a12d5ec-4059-433e-b160-13f8d0626df6",
   "metadata": {},
   "source": [
    "1. Create a local, in-memory Kaskada instance"
   ]
  },
  {
   "cell_type": "code",
   "execution_count": null,
   "id": "0b8b442f-c6a3-4b96-91c4-afbc9d718843",
   "metadata": {
    "tags": []
   },
   "outputs": [],
   "source": [
    "from kaskada.api.session import LocalBuilder\n",
    "from kaskada import table\n",
    "\n",
    "session = LocalBuilder().build()"
   ]
  },
  {
   "cell_type": "markdown",
   "id": "aafdfe0b-deab-4a88-8ce6-0c4d8c7e96c6",
   "metadata": {
    "tags": []
   },
   "source": [
    "2. Create a table for the data"
   ]
  },
  {
   "cell_type": "code",
   "execution_count": null,
   "id": "3501e80b-5359-4425-8432-510ff7005dee",
   "metadata": {
    "tags": []
   },
   "outputs": [],
   "source": [
    "table.create_table(\n",
    "  # The table's name\n",
    "  table_name = \"Ecom\",\n",
    "  # The name of the column in the data that contains the time associated with each row\n",
    "  time_column_name = \"event_timestamp\",\n",
    "  # The name of the column in the data that contains the entity key associated with each row\n",
    "  entity_key_column_name = \"user_id\",\n",
    ")"
   ]
  },
  {
   "cell_type": "markdown",
   "id": "06deab69-e940-43ea-893b-4ae95cf931c9",
   "metadata": {
    "tags": []
   },
   "source": [
    "3. Load the files's contents into the Purchase table"
   ]
  },
  {
   "cell_type": "code",
   "execution_count": null,
   "id": "e07a4c81-717a-4606-80a5-80d790cc2dda",
   "metadata": {
    "tags": []
   },
   "outputs": [],
   "source": [
    "table.load(table_name = \"Ecom\", file = \"ecommerce-event-data.parquet\")"
   ]
  },
  {
   "cell_type": "markdown",
   "id": "d0996188-2a24-4718-b956-e36d37a6099e",
   "metadata": {
    "tags": []
   },
   "source": [
    "4. Setup Kaskada's \"magic\" command for Jupyter"
   ]
  },
  {
   "cell_type": "code",
   "execution_count": null,
   "id": "0ec9a6f9-22da-459e-b456-06299d2a4116",
   "metadata": {
    "tags": []
   },
   "outputs": [],
   "source": [
    "%load_ext fenlmagic"
   ]
  },
  {
   "cell_type": "markdown",
   "id": "2d78a20f-719d-4432-b0e3-30ffb32c66da",
   "metadata": {},
   "source": [
    "5. List the table's contents to verify everything worked"
   ]
  },
  {
   "cell_type": "code",
   "execution_count": null,
   "id": "ec8c2c82-df9f-4de4-8198-9995ca495b90",
   "metadata": {
    "tags": []
   },
   "outputs": [],
   "source": [
    "%%fenl\n",
    "Ecom"
   ]
  },
  {
   "cell_type": "markdown",
   "id": "52fb3b92-e848-4998-a793-57b36f111d8f",
   "metadata": {},
   "source": [
    "## Explore!\n",
    "\n",
    "Try some queries of your own in the block below. The [Reference > Queries](https://kaskada.io/docs-site/kaskada/main/developing/queries.html) section of the docs can help you get started.\n",
    "\n",
    "For example, see if you can explore the user journey over time for particular user\n",
    "\n",
    "1. Try filtering the event set to events from a single user, e.g. `user_000001`, `user_000002`, etc.\n",
    "2. Calculate summary statistics, for example the running total number of events for the user or the running total revenue from the user\n",
    "\n",
    "For each user in the data set, calculate the final (at the end of the dataset) values of:\n",
    "* The total number of events\n",
    "* The total number of `view_item` events\n",
    "* The total number of `add_to_cart` events\n",
    "* The total number of `purchase` events\n",
    "* The total revenue\n"
   ]
  },
  {
   "cell_type": "code",
   "execution_count": null,
   "id": "50911d24-bb07-4277-95de-5463f0841451",
   "metadata": {
    "tags": []
   },
   "outputs": [],
   "source": [
    "%%fenl\n"
   ]
  }
 ],
 "metadata": {
  "kernelspec": {
   "display_name": "Python 3 (ipykernel)",
   "language": "python",
   "name": "python3"
  },
  "language_info": {
   "codemirror_mode": {
    "name": "ipython",
    "version": 3
   },
   "file_extension": ".py",
   "mimetype": "text/x-python",
   "name": "python",
   "nbconvert_exporter": "python",
   "pygments_lexer": "ipython3",
   "version": "3.10.9"
  }
 },
 "nbformat": 4,
 "nbformat_minor": 5
}
