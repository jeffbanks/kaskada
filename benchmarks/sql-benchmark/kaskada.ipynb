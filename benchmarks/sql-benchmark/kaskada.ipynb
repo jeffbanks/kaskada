{
 "cells": [
  {
   "cell_type": "code",
   "execution_count": null,
   "metadata": {},
   "outputs": [],
   "source": [
    "%pip install pandas kaskada"
   ]
  },
  {
   "cell_type": "code",
   "execution_count": null,
   "metadata": {},
   "outputs": [],
   "source": [
    "# Configure reloading of loaded modules (useful for the visualization function)\n",
    "%reload_ext autoreload\n",
    "%autoreload 2"
   ]
  },
  {
   "cell_type": "code",
   "execution_count": null,
   "metadata": {},
   "outputs": [],
   "source": [
    "# Import pandas\n",
    "import pandas as pd"
   ]
  },
  {
   "cell_type": "code",
   "execution_count": null,
   "metadata": {},
   "outputs": [],
   "source": [
    "# Create the Kaskada Session\n",
    "from kaskada.api.session import LocalBuilder\n",
    "session = LocalBuilder().build()"
   ]
  },
  {
   "cell_type": "code",
   "execution_count": null,
   "metadata": {},
   "outputs": [],
   "source": [
    "%reload_ext fenlmagic"
   ]
  },
  {
   "cell_type": "code",
   "execution_count": null,
   "metadata": {},
   "outputs": [],
   "source": [
    "from kaskada import table\n",
    "\n",
    "try:\n",
    "    view.delete_view('ReviewsByItem')\n",
    "except:\n",
    "    pass\n",
    "\n",
    "try:\n",
    "  table.delete_table('Purchases')\n",
    "except:\n",
    "  pass\n",
    "\n",
    "table.create_table(\n",
    "  table_name = 'Purchases',\n",
    "  time_column_name = 'time',\n",
    "  entity_key_column_name = 'user',\n",
    "  grouping_id = 'user',\n",
    ")\n",
    "\n",
    "table.load_dataframe(\n",
    "  table_name = 'Purchases',\n",
    "  dataframe = Purchases,\n",
    ")\n",
    "\n",
    "try:\n",
    "  table.delete_table('PageViews')\n",
    "except:\n",
    "  pass\n",
    "\n",
    "table.create_table(\n",
    "  table_name = 'PageViews',\n",
    "  time_column_name = 'time',\n",
    "  entity_key_column_name = 'user',\n",
    "  grouping_id = 'user',\n",
    ")\n",
    "\n",
    "table.load_dataframe(\n",
    "  table_name = 'PageViews',\n",
    "  dataframe = PageViews,\n",
    ")\n",
    "\n",
    "try:\n",
    "  table.delete_table('Ratings')\n",
    "except:\n",
    "  pass\n",
    "\n",
    "table.create_table(\n",
    "  table_name = 'Ratings',\n",
    "  time_column_name = 'time',\n",
    "  entity_key_column_name = 'user',\n",
    "  grouping_id = 'user',\n",
    ")\n",
    "\n",
    "table.load_dataframe(\n",
    "  table_name = 'Ratings',\n",
    "  dataframe = Ratings,\n",
    ")"
   ]
  },
  {
   "attachments": {},
   "cell_type": "markdown",
   "metadata": {},
   "source": [
    "# Aggregation / History"
   ]
  },
  {
   "cell_type": "code",
   "execution_count": null,
   "metadata": {},
   "outputs": [],
   "source": [
    "%%fenl --var=aggregate\n",
    "{ \n",
    "    amount: Purchases.amount,\n",
    "    sum_amount: sum(Purchases.amount)\n",
    "}"
   ]
  },
  {
   "attachments": {},
   "cell_type": "markdown",
   "metadata": {},
   "source": [
    "# Aggregation / Snapshot"
   ]
  },
  {
   "attachments": {},
   "cell_type": "markdown",
   "metadata": {},
   "source": [
    "# Windowed Aggregation / History"
   ]
  },
  {
   "attachments": {},
   "cell_type": "markdown",
   "metadata": {},
   "source": [
    "# Windowed Aggregation / Snapshot"
   ]
  },
  {
   "attachments": {},
   "cell_type": "markdown",
   "metadata": {},
   "source": [
    "# Data-Defined Windowed Aggregation / History"
   ]
  },
  {
   "attachments": {},
   "cell_type": "markdown",
   "metadata": {},
   "source": [
    "# Temporal Join / Snapshot"
   ]
  }
 ],
 "metadata": {
  "language_info": {
   "name": "python"
  },
  "orig_nbformat": 4
 },
 "nbformat": 4,
 "nbformat_minor": 2
}
